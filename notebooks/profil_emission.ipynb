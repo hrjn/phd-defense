{
 "cells": [
  {
   "cell_type": "code",
   "execution_count": 101,
   "metadata": {
    "collapsed": false
   },
   "outputs": [],
   "source": [
    "%matplotlib inline\n",
    "import numpy as np\n",
    "import matplotlib.pyplot as plt"
   ]
  },
  {
   "cell_type": "code",
   "execution_count": 102,
   "metadata": {
    "collapsed": true
   },
   "outputs": [],
   "source": [
    "Ts = 12\n",
    "delta_t = 10\n",
    "q_singles = np.array([0, 3, 9, 15, 24, 27, 12, 6, 3, 0, 0, 0])"
   ]
  },
  {
   "cell_type": "code",
   "execution_count": 103,
   "metadata": {
    "collapsed": false
   },
   "outputs": [],
   "source": [
    "q_all = np.array([np.tile(q, delta_t) for q in q_singles]).flatten()"
   ]
  },
  {
   "cell_type": "code",
   "execution_count": 118,
   "metadata": {
    "collapsed": false
   },
   "outputs": [
    {
     "data": {
      "image/png": "[encoded data removed]",
      "text/plain": [
       "<matplotlib.figure.Figure at 0x10bf9fa58>"
      ]
     },
     "metadata": {},
     "output_type": "display_data"
    }
   ],
   "source": [
    "plt.figure(figsize=(10,6), dpi=80)\n",
    "ax = plt.gca()\n",
    "plt.plot(q_all, linewidth=2.5, linestyle='-', c='orange')\n",
    "pt_x = 5*delta_t\n",
    "pt_x_p = 4*delta_t\n",
    "plt.plot([pt_x,pt_x],[0,24], color ='grey', linewidth=1.5, linestyle=\"--\")\n",
    "plt.plot([pt_x_p,pt_x_p],[0,24], color ='grey', linewidth=1.5, linestyle=\"--\")\n",
    "\n",
    "plt.plot([0,pt_x],[24,24], color ='grey', linewidth=1.5, linestyle=\"--\")\n",
    "plt.plot([pt_x_p,pt_x],[24,24], color ='grey', linewidth=1.5, linestyle=\"--\")\n",
    "plt.scatter([pt_x,],[24,], 70, color ='grey')\n",
    "plt.scatter([pt_x_p,],[24,], 70, color ='grey')\n",
    "\n",
    "\n",
    "\n",
    "\n",
    "orig_x_ticks = [0, 1*delta_t, 2*delta_t, 4*delta_t, 5*delta_t, 119]\n",
    "new_x_ticks = [r\"$0$\", r\"$t^\\prime_1$\", r\"$t^\\prime_2$\", r\"$t^\\prime_{i-1}$\", r\"$t^\\prime_i$\", r\"$t^\\prime_{T_s}$\"]\n",
    "plt.xticks(orig_x_ticks, new_x_ticks)\n",
    "orig_y_ticks = [24]\n",
    "new_y_ticks = [r\"$q(t^\\prime_i)$\"]\n",
    "plt.yticks(orig_y_ticks, new_y_ticks)\n",
    "plt.xlim([0,120])\n",
    "plt.ylim([0, 28])\n",
    "# Hide the right and top spines\n",
    "ax.spines['right'].set_visible(False)\n",
    "ax.spines['top'].set_visible(False)\n",
    "# Only show ticks on the left and bottom spines\n",
    "ax.yaxis.set_ticks_position('left')\n",
    "ax.xaxis.set_ticks_position('bottom')\n",
    "\n",
    "\n",
    "for label in ax.get_xticklabels() + ax.get_yticklabels():\n",
    "    label.set_fontsize(24)\n",
    "plt.savefig(\"foo.pdf\")\n",
    "plt.show()\n"
   ]
  },
  {
   "cell_type": "code",
   "execution_count": null,
   "metadata": {
    "collapsed": true
   },
   "outputs": [],
   "source": []
  }
 ],
 "metadata": {
  "kernelspec": {
   "display_name": "Python 3",
   "language": "python",
   "name": "python3"
  },
  "language_info": {
   "codemirror_mode": {
    "name": "ipython",
    "version": 3
   },
   "file_extension": ".py",
   "mimetype": "text/x-python",
   "name": "python",
   "nbconvert_exporter": "python",
   "pygments_lexer": "ipython3",
   "version": "3.5.2"
  }
 },
 "nbformat": 4,
 "nbformat_minor": 0
}
